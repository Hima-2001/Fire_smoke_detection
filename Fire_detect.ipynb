{
  "nbformat": 4,
  "nbformat_minor": 0,
  "metadata": {
    "colab": {
      "private_outputs": true,
      "provenance": [],
      "gpuType": "T4"
    },
    "kernelspec": {
      "name": "python3",
      "display_name": "Python 3"
    },
    "language_info": {
      "name": "python"
    },
    "accelerator": "GPU"
  },
  "cells": [
    {
      "cell_type": "code",
      "source": [
        "!pip install roboflow\n",
        "\n",
        "from roboflow import Roboflow\n",
        "rf = Roboflow(api_key=\"JovycI5U6dmuyr9cAmsn\")\n",
        "project = rf.workspace(\"modelannotated\").project(\"fire-detection-model-annotated\")\n",
        "version = project.version(1)\n",
        "dataset = version.download(\"yolov8\")\n"
      ],
      "metadata": {
        "id": "5z_UV7g_XnFH"
      },
      "execution_count": null,
      "outputs": []
    },
    {
      "cell_type": "code",
      "source": [
        "!pip install ultralytics"
      ],
      "metadata": {
        "id": "KgzwmHJJZqH0"
      },
      "execution_count": null,
      "outputs": []
    },
    {
      "cell_type": "code",
      "source": [
        "from google.colab import drive\n",
        "drive.mount('/content/drive')"
      ],
      "metadata": {
        "id": "jDfySJ_OHBsR"
      },
      "execution_count": null,
      "outputs": []
    },
    {
      "cell_type": "code",
      "source": [
        "from ultralytics import YOLO\n",
        "\n",
        "# Load a pre-trained YOLO model (you can choose n, s, m, l, or x versions)\n",
        "model = YOLO(\"yolo11n.pt\")\n",
        "\n",
        "# Start training on your custom dataset\n",
        "model.train(data=\"/content/fire-detection-Model-annotated-1/data.yaml\", epochs=50, imgsz=640)"
      ],
      "metadata": {
        "id": "gE4IQObdY068"
      },
      "execution_count": null,
      "outputs": []
    },
    {
      "cell_type": "code",
      "source": [
        "# Load the YOLO11 model\n",
        "model = YOLO(\"/content/runs/detect/train/weights/best.pt\")\n",
        "\n",
        "# Export the model to ONNX format\n",
        "model.export(format=\"onnx\")  # creates 'yolo11n.onnx'"
      ],
      "metadata": {
        "id": "9z7LqsH_Znas"
      },
      "execution_count": null,
      "outputs": []
    },
    {
      "cell_type": "code",
      "source": [
        "import shutil\n",
        "\n",
        "# Zip entire folder\n",
        "shutil.make_archive(\"/content/Fire-Smoke\", 'zip', \"/content/fire-detection-Model-annotated-1\")\n",
        "\n",
        "shutil.make_archive(\"/content/runs\", 'zip', \"/content/runs\")"
      ],
      "metadata": {
        "id": "AgTY4ng-d6w9"
      },
      "execution_count": null,
      "outputs": []
    },
    {
      "cell_type": "code",
      "source": [],
      "metadata": {
        "id": "saHQ7LsLd6tc"
      },
      "execution_count": null,
      "outputs": []
    },
    {
      "cell_type": "code",
      "source": [],
      "metadata": {
        "id": "TRnfDMQ_d6qK"
      },
      "execution_count": null,
      "outputs": []
    }
  ]
}